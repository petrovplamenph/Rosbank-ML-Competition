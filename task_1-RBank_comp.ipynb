{
 "cells": [
  {
   "cell_type": "code",
   "execution_count": null,
   "metadata": {},
   "outputs": [],
   "source": [
    "import numpy as np\n",
    "import pandas as pd\n",
    "\n",
    "from sklearn.svm import SVC\n",
    "from sklearn.linear_model import LogisticRegression\n",
    "from sklearn.tree import DecisionTreeClassifier\n",
    "from sklearn.ensemble import AdaBoostClassifier\n",
    "from sklearn.naive_bayes import GaussianNB\n",
    "from sklearn.metrics import roc_auc_score, accuracy_score\n",
    "from sklearn.feature_selection import f_classif, SelectKBest\n",
    "from sklearn.pipeline import Pipeline\n",
    "from sklearn.model_selection import cross_val_score, GridSearchCV\n",
    "\n",
    "import matplotlib\n",
    "import matplotlib.pyplot as plt\n",
    "\n",
    "from keras.optimizers import Adam\n",
    "from keras.models import load_model, Sequential\n",
    "from keras.layers import Dense, Input\n",
    "from keras import regularizers\n",
    "\n",
    "%matplotlib  inline"
   ]
  },
  {
   "cell_type": "markdown",
   "metadata": {},
   "source": [
    "# Load preprocesed data"
   ]
  },
  {
   "cell_type": "code",
   "execution_count": 3,
   "metadata": {},
   "outputs": [
    {
     "name": "stdout",
     "output_type": "stream",
     "text": [
      "Number of attributes: 35\n"
     ]
    }
   ],
   "source": [
    "train_data = np.load(\"X_train_flags.npy\")\n",
    "test_data = np.load(\"X_test_flags.npy\")\n",
    "print(\"Number of attributes:\",train_data.shape[1]-1)"
   ]
  },
  {
   "cell_type": "markdown",
   "metadata": {},
   "source": [
    "Split to test and dev sets  to train multilayer perceptron model"
   ]
  },
  {
   "cell_type": "code",
   "execution_count": 4,
   "metadata": {},
   "outputs": [],
   "source": [
    "X_test_num_samples = test_data.shape[0]\n",
    "dev_split = int(X_test_num_samples*0.5)\n",
    "test_split = int(X_test_num_samples - dev_split)\n",
    "train_num_samples = train_data.shape[0]\n",
    "\n",
    "\n",
    "X_train_nn = train_data[:,:-1]\n",
    "y_train_nn = train_data[:,-1:].reshape(train_num_samples, 1)\n",
    "y_train_nn = np.hstack([1-y_train_nn,y_train_nn])\n",
    "\n",
    "\n",
    "X_dev_nn = test_data[:dev_split,:-1]\n",
    "y_dev = test_data[:dev_split,-1:].reshape(dev_split, 1) \n",
    "y_dev_nn = np.hstack([1-y_dev,y_dev])\n",
    "\n",
    "\n",
    "X_test = test_data[dev_split:,:-1]\n",
    "y_test = test_data[dev_split:,-1:].reshape(test_split, 1) \n",
    "y_test_nn = np.hstack([1-y_test,y_test])"
   ]
  },
  {
   "cell_type": "markdown",
   "metadata": {},
   "source": [
    "# Models Tuneing"
   ]
  },
  {
   "cell_type": "markdown",
   "metadata": {},
   "source": [
    "For the \"sklearn\" models 3 fold crossvalidation will be used to tuneing "
   ]
  },
  {
   "cell_type": "code",
   "execution_count": 5,
   "metadata": {},
   "outputs": [],
   "source": [
    "X_train = np.vstack([train_data[:,:-1], test_data[:dev_split,:-1]])\n",
    "y_train = np.vstack([train_data[:,-1:], test_data[:dev_split,-1:]]).reshape(dev_split+train_num_samples,1)"
   ]
  },
  {
   "cell_type": "markdown",
   "metadata": {},
   "source": [
    "Helper function for the best paramaters search regarding the sklearn used classifiers"
   ]
  },
  {
   "cell_type": "code",
   "execution_count": null,
   "metadata": {},
   "outputs": [],
   "source": [
    "def create_df(**kwargs):\n",
    "    return pd.DataFrame.from_dict(kwargs)"
   ]
  },
  {
   "cell_type": "markdown",
   "metadata": {},
   "source": [
    "Tune Linear SVM, while using ANOVA-F test for feature selection"
   ]
  },
  {
   "cell_type": "code",
   "execution_count": null,
   "metadata": {},
   "outputs": [],
   "source": [
    "pipe = Pipeline([\n",
    "    ('reduce_dim',  SelectKBest(f_classif)),\n",
    "    ('classify', SVC(kernel=\"linear\"))\n",
    "    ])\n",
    "\n",
    "N_FEATURES_OPTIONS = [3, 5 ,10, 15, 25, 35]\n",
    "C_OPTIONS = [0.0001,0.001,0.01,0.1,1,10,100,1000]\n",
    "\n",
    "param_grid = [\n",
    "    {\n",
    "        'reduce_dim__k': N_FEATURES_OPTIONS,\n",
    "        'classify__C': C_OPTIONS,\n",
    "    }\n",
    "            ]\n",
    "grid = GridSearchCV(pipe, cv=3, n_jobs=1, param_grid=param_grid, scoring=\"roc_auc\")\n",
    "grid.fit(X_train, y_train.ravel())\n",
    "\n",
    "# The best found parameters\n",
    "print(grid.best_params_)\n",
    "\n",
    "# The results for the whole search are stored in - grid.cv_results_\n",
    "C_s =  []\n",
    "Anova_K_best = []\n",
    "for  params in grid.cv_results_['params']:\n",
    "    C_s.append(params['classify__C'])\n",
    "    Anova_K_best.append(params['reduce_dim__k'])\n",
    "res_svm_search = create_df(C=C_s, k_best=Anova_K_best, mean_scores=grid.cv_results_['mean_test_score'],\n",
    "          std_score=grid.cv_results_['std_test_score'])"
   ]
  },
  {
   "cell_type": "markdown",
   "metadata": {},
   "source": [
    "Greate a dafaframe with the parametars and the test scores"
   ]
  },
  {
   "cell_type": "code",
   "execution_count": null,
   "metadata": {},
   "outputs": [],
   "source": [
    "res_svm_search.sort_values(by=['mean_scores'], ascending=False, inplace=True)\n",
    "res_svm_search"
   ]
  },
  {
   "cell_type": "markdown",
   "metadata": {},
   "source": [
    "Tune Logistic Regression, while using ANOVA-F test for feature selection"
   ]
  },
  {
   "cell_type": "code",
   "execution_count": null,
   "metadata": {},
   "outputs": [],
   "source": [
    "pipe = Pipeline([\n",
    "    ('reduce_dim',  SelectKBest(f_classif)),\n",
    "    ('classify', LogisticRegression())\n",
    "    ])\n",
    "\n",
    "N_FEATURES_OPTIONS = [3, 5 ,10, 15, 25, 35]\n",
    "C_OPTIONS = [0.0001,0.001,0.01,0.1,1,10,100,1000]\n",
    "\n",
    "param_grid = [\n",
    "    {\n",
    "        'reduce_dim__k': N_FEATURES_OPTIONS,\n",
    "        'classify__C': C_OPTIONS,\n",
    "    }\n",
    "            ]\n",
    "grid = GridSearchCV(pipe, cv=3, n_jobs=1, param_grid=param_grid, scoring=\"roc_auc\")\n",
    "grid.fit(X_train, y_train.ravel())\n",
    "\n",
    "\n",
    "C_s =  []\n",
    "Anova_K_best = []\n",
    "for  params in grid.cv_results_['params']:\n",
    "    C_s.append(params['classify__C'])\n",
    "    Anova_K_best.append(params['reduce_dim__k'])\n",
    "res_log_reg_search = create_df(C=C_s, k_best=Anova_K_best, mean_scores=grid.cv_results_['mean_test_score'],\n",
    "          std_score=grid.cv_results_['std_test_score'])\n",
    "\n",
    "res_log_reg_search.sort_values(by=['mean_scores'], ascending=False, inplace=True)\n",
    "res_log_reg_search"
   ]
  },
  {
   "cell_type": "markdown",
   "metadata": {},
   "source": [
    "Tune Adaboost forest"
   ]
  },
  {
   "cell_type": "code",
   "execution_count": null,
   "metadata": {},
   "outputs": [],
   "source": [
    "DTC = DecisionTreeClassifier()\n",
    "\n",
    "pipe = Pipeline([\n",
    "    ('reduce_dim',  SelectKBest(f_classif)),\n",
    "    ('classify', AdaBoostClassifier(base_estimator = DTC))\n",
    "    ])\n",
    "\n",
    "N_FEATURES_OPTIONS = [3, 5 ,10, 15, 25, 35]\n",
    "LERNING_RATES = [0.2, 0.6, 1, 1.5, 2, 2.5, 3]\n",
    "ESTIMETORS_NUM = [40, 50, 100, 140, 170, 220, 300, 400]\n",
    "DEPTHS = [1,2,3]\n",
    "\n",
    "param_grid = [\n",
    "    {\n",
    "        'reduce_dim__k': N_FEATURES_OPTIONS,\n",
    "        'classify__n_estimators': ESTIMETORS_NUM,\n",
    "        'classify__learning_rate': LERNING_RATES,\n",
    "        'classify__base_estimator__max_depth': DEPTHS\n",
    "    }\n",
    "            ]\n",
    "grid = GridSearchCV(pipe, cv=3, n_jobs=1, param_grid=param_grid, scoring=\"roc_auc\")\n",
    "grid.fit(X_train, y_train.ravel())\n",
    "\n",
    "Est_num_param =  []\n",
    "Lerning_rate_param = []\n",
    "Anova_K_best = []\n",
    "Depths = []\n",
    "for  params in grid.cv_results_['params']:\n",
    "    Est_num_param.append(params['classify__n_estimators'])\n",
    "    Lerning_rate_param.append(params['classify__learning_rate'])\n",
    "    Depths.append(params['classify__base_estimator__max_depth'])\n",
    "    Anova_K_best.append(params['reduce_dim__k'])\n",
    "res_boost_search = create_df(Estametors=Est_num_param, Lerning_rates=Lerning_rate_param, Depth = Depths, \n",
    "                               k_best=Anova_K_best, mean_scores=grid.cv_results_['mean_test_score'],\n",
    "                               std_score=grid.cv_results_['std_test_score'])\n",
    "\n",
    "res_boost_search.sort_values(by=['mean_scores'], ascending=False, inplace=True)\n",
    "res_boost_search"
   ]
  },
  {
   "cell_type": "markdown",
   "metadata": {},
   "source": [
    "Tune SVM with RBF kernel"
   ]
  },
  {
   "cell_type": "code",
   "execution_count": null,
   "metadata": {},
   "outputs": [],
   "source": [
    "pipe = Pipeline([\n",
    "    ('reduce_dim',  SelectKBest(f_classif)),\n",
    "    ('classify', SVC(kernel=\"rbf\"))\n",
    "    ])\n",
    "\n",
    "N_FEATURES_OPTIONS = [3, 5 ,10, 15, 25, 35]\n",
    "C_OPTIONS =[0.0001,0.001,0.01,0.1,1,10,100,1000]\n",
    "GAMMAS =[rescale/X_train.shape[1] for rescale in range(2,5)] + [1/(X_train.shape[1]*rescale) for rescale in range(2,5)]                          \n",
    "GAMMAS.append(\"auto\")\n",
    "\n",
    "param_grid = [\n",
    "    {\n",
    "        'reduce_dim__k': N_FEATURES_OPTIONS,\n",
    "        'classify__C': C_OPTIONS,\n",
    "        'classify__gamma': GAMMAS\n",
    "    }\n",
    "            ]\n",
    "grid = GridSearchCV(pipe, cv=3, n_jobs=1, param_grid=param_grid, scoring=\"roc_auc\")\n",
    "grid.fit(X_train, y_train.ravel())\n",
    "\n",
    "\n",
    "C_s =  []\n",
    "Anova_K_best = []\n",
    "Gammas  = []\n",
    "for  params in grid.cv_results_['params']:\n",
    "    C_s.append(params['classify__C'])\n",
    "    Anova_K_best.append(params['reduce_dim__k'])\n",
    "    Gammas.append(params['classify__gamma'])\n",
    "res_rbf_svm_search = create_df(C=C_s, k_best=Anova_K_best, Gamma=Gammas,\n",
    "                               mean_scores=grid.cv_results_['mean_test_score'], std_score=grid.cv_results_['std_test_score'])\n",
    "res_rbf_svm_search.sort_values(by=['mean_scores'], ascending=False, inplace=True)\n",
    "res_rbf_svm_search"
   ]
  },
  {
   "cell_type": "markdown",
   "metadata": {},
   "source": [
    "MLP without tuneing "
   ]
  },
  {
   "cell_type": "code",
   "execution_count": null,
   "metadata": {},
   "outputs": [],
   "source": [
    "def row_model():\n",
    "    model = Sequential()\n",
    "    model.add(Dense(6, input_dim=X_train.shape[1], activation='relu'))\n",
    "    model.add(Dense(6, input_dim=X_train.shape[1], activation='relu'))\n",
    "    model.add(Dense(2, activation='sigmoid'))\n",
    "\n",
    "    return model\n",
    "\n",
    "\n",
    "model = row_model()\n",
    "model.compile(loss='binary_crossentropy', optimizer='adam', metrics=['accuracy'])\n",
    "train_auc = []\n",
    "test_auc = []\n",
    "epochs = 40\n",
    "for ep in range(epochs):\n",
    "    model.fit(X_train_nn, y_train_nn, epochs=1, batch_size=32, shuffle=True,verbose=0)\n",
    "    test_predictions = model.predict(X_dev_nn, batch_size=32, verbose=0)\n",
    "    train_predictions = model.predict(X_train_nn, batch_size=32, verbose=0)\n",
    "    roc_test = roc_auc_score(y_test_nn, test_predictions)\n",
    "    roc_train = roc_auc_score(y_train_nn, train_predictions)\n",
    "    train_auc.append(roc_train)\n",
    "    test_auc.append(roc_test)\n",
    "    \n",
    "fig, ax = plt.subplots()\n",
    "ax.plot(range(1,epochs+1), train_auc, \"b--\", label=\"train\")\n",
    "ax.plot(range(1,epochs+1), test_auc, \"r--\", label=\"test\")\n",
    "ax.set(xlabel='epochs', ylabel='AUC',\n",
    "       title='AUC(epochs)')\n",
    "\n",
    "ax.legend()\n",
    "ax.grid()\n"
   ]
  },
  {
   "cell_type": "markdown",
   "metadata": {},
   "source": [
    "Helper Functions for neural network tuneing"
   ]
  },
  {
   "cell_type": "code",
   "execution_count": null,
   "metadata": {},
   "outputs": [],
   "source": [
    "def sample_learning_rate():\n",
    "    x=-2*np.random.rand()-1.5\n",
    "    return 10**x\n",
    "\n",
    "def random_choice_activation():\n",
    "    if np.random.rand() > 0.5:\n",
    "        return \"relu\"\n",
    "    return \"tanh\"\n",
    "\n",
    "def get_score_tabel(number_models):\n",
    "    params_scores = [\"test_auc\",\"train_auc\", \"test_acc\", \"train_acc\",\"best_ep\"]\n",
    "    header = [\"h_layer_1_nodes\", \"h_layer_2_nodes\",\"h_layer_3_nodes\",\"A1\", \"A2\", \"A3\", \"lerning_rate\"]+params_scores\n",
    "    result_df = pd.DataFrame(index=range(number_models), columns=header)\n",
    "    return result_df\n",
    "\n",
    "\n",
    "def fill(df,idx,vals):\n",
    "    for col in range(len(vals)):\n",
    "        df.iloc[idx,col] = vals[col] \n",
    "    return df"
   ]
  },
  {
   "cell_type": "markdown",
   "metadata": {},
   "source": [
    "Two MLP models from which the best will be chosen"
   ]
  },
  {
   "cell_type": "code",
   "execution_count": 6,
   "metadata": {},
   "outputs": [],
   "source": [
    "def model_3_layers(h_layer_1_nodes, h_layer_2_nodes, h_layer_3_nodes, A1, A2, A3, l2):\n",
    "    model = Sequential()\n",
    "    model.add(Dense(h_layer_1_nodes, input_dim=X_train_nn.shape[1], activation= A1,kernel_regularizer=regularizers.l2(l2)))\n",
    "    model.add(Dense(h_layer_2_nodes, activation=A2 ,kernel_regularizer=regularizers.l2(l2)))\n",
    "    model.add(Dense(h_layer_3_nodes, activation=A3,kernel_regularizer=regularizers.l2(l2)))\n",
    "    model.add(Dense(2, activation='softmax'))\n",
    "    return model\n",
    "\n",
    "def model_2_layers(h_layer_1_nodes, h_layer_2_nodes, A1, A2,l2):\n",
    "    model = Sequential()\n",
    "    model.add(Dense(h_layer_1_nodes, input_dim=X_train_nn.shape[1], activation= A1,kernel_regularizer=regularizers.l2(l2)))\n",
    "    model.add(Dense(h_layer_2_nodes, activation=A2 ,kernel_regularizer=regularizers.l2(l2)))\n",
    "    model.add(Dense(2, activation='softmax'))\n",
    "    return model"
   ]
  },
  {
   "cell_type": "markdown",
   "metadata": {},
   "source": [
    "Tune multilayer perceptron with 2 hidden layers"
   ]
  },
  {
   "cell_type": "code",
   "execution_count": null,
   "metadata": {},
   "outputs": [],
   "source": [
    "def parametar_search_2_layers():\n",
    "    \n",
    "    h_layer1 = range(6,30,3)\n",
    "    h_layer2 = range(4,34,3)\n",
    "    l2 = 0.001\n",
    "    result_df = get_score_tabel(len(h_layer1)*len(h_layer2))\n",
    "    i = 0\n",
    "    for h_layer_1_nodes in h_layer1:\n",
    "        for h_layer_2_nodes in h_layer2: \n",
    "            A1 = random_choice_activation()\n",
    "            A2 = random_choice_activation()\n",
    "            lerning_rate = sample_learning_rate()\n",
    "            \n",
    "            \n",
    "            \n",
    "            model = model_2_layers(h_layer_1_nodes, h_layer_2_nodes, A1, A2, l2)\n",
    "            opt = Adam(lr=lerning_rate)\n",
    "            model.compile(loss='categorical_crossentropy', optimizer=opt, metrics=['accuracy'])\n",
    "            \n",
    "            best_test_auc = 0\n",
    "            best_train_auc = 0\n",
    "            best_test_acc = 0\n",
    "            best_train_acc = 0\n",
    "            best_ep = 0\n",
    "            \n",
    "            early_stoping_counter = 0\n",
    "            early_stoping_delta = 0.01\n",
    "            \n",
    "            for ep in range(1, 40):\n",
    "                model.fit(X_train_nn, y_train_nn, epochs=1, batch_size=32, shuffle=True,verbose=0)\n",
    "                test_predictions = model.predict(X_dev_nn, batch_size=32, verbose=0)\n",
    "                test_acc = accuracy_score(np.argmax(y_dev_nn,axis=1), np.argmax(test_predictions,axis=1))\n",
    "                train_predictions = model.predict(X_train_nn, batch_size=32, verbose=0)\n",
    "                train_acc = accuracy_score(np.argmax(y_train_nn,axis=1),np.argmax(train_predictions,axis=1))\n",
    "                train_auc = roc_auc_score(y_train_nn, train_predictions)\n",
    "                test_auc = roc_auc_score(y_dev_nn, test_predictions)\n",
    "                early_stoping_counter += 1\n",
    "                if test_auc>best_test_auc:\n",
    "                    best_test_auc = test_auc\n",
    "                    best_train_auc = train_auc\n",
    "                    best_test_acc = test_acc\n",
    "                    best_train_acc = train_acc\n",
    "                    best_ep = ep\n",
    "                    early_stoping_counter -= 1\n",
    "                    if test_auc > best_test_auc+early_stoping_delta:\n",
    "                        early_stoping_counter = 0\n",
    "                    if early_stoping_counter == 6:\n",
    "                        break\n",
    "                    \n",
    "            params = [h_layer_1_nodes, h_layer_2_nodes, 0,A1, A2, 0, lerning_rate]\n",
    "            scores = params + [best_test_auc, best_train_auc, best_test_acc, best_train_acc,best_ep]\n",
    "            print(scores)\n",
    "            result_df = fill(result_df,i,scores)\n",
    "            i += 1\n",
    "            if i%10 == 0:\n",
    "    return result_df\n",
    "res_df_2 = parametar_search_2_layers()\n",
    "res_df_2.sort_values(by=['test_auc'], ascending=False, inplace=True)"
   ]
  },
  {
   "cell_type": "code",
   "execution_count": null,
   "metadata": {},
   "outputs": [],
   "source": [
    "res_df.sort_values(by=['test_auc'], ascending=False, inplace=True)"
   ]
  },
  {
   "cell_type": "markdown",
   "metadata": {},
   "source": [
    "Tune multilayer perceptron with 3 hidden layers"
   ]
  },
  {
   "cell_type": "code",
   "execution_count": null,
   "metadata": {},
   "outputs": [],
   "source": [
    "def parametar_search_3_layers():\n",
    "    \n",
    "    h_layer1 = range(5,30,3)\n",
    "    h_layer2 = range(9,40,5)\n",
    "    h_layer3 = range(6,10,1)\n",
    "    l2 = 0.001\n",
    "    result_df = get_score_tabel(len(h_layer1)*len(h_layer3)*len(h_layer3))\n",
    "    i = 0\n",
    "    for h_layer_1_nodes in h_layer1:\n",
    "        for h_layer_2_nodes in h_layer2: \n",
    "            for h_layer_3_nodes in h_layer3:\n",
    "                A1 = random_choice_activation()\n",
    "                A2 = random_choice_activation()\n",
    "                A3 = random_choice_activation()\n",
    "                lerning_rate = sample_learning_rate()\n",
    "            \n",
    "                model = model_3_layers(h_layer_1_nodes, h_layer_2_nodes, h_layer_3_nodes, A1, A2, A3, l2)\n",
    "                opt = Adam(lr=lerning_rate)\n",
    "                model.compile(loss='categorical_crossentropy', optimizer=opt, metrics=['accuracy'])\n",
    "                \n",
    "                best_test_auc = 0\n",
    "                best_train_auc = 0\n",
    "                best_test_acc = 0\n",
    "                best_train_acc = 0\n",
    "                best_ep = 0\n",
    "                \n",
    "                early_stoping_counter = 0\n",
    "                early_stoping_delta = 0.01\n",
    "                for ep in range(1, 30):\n",
    "                    model.fit(X_train_nn, y_train_nn, epochs=1, batch_size=32, shuffle=True,verbose=0)\n",
    "                    test_predictions = model.predict(X_dev_nn, batch_size=32, verbose=0)\n",
    "                    test_acc = accuracy_score(np.argmax(y_dev_nn,axis=1), np.argmax(test_predictions,axis=1))\n",
    "                    train_predictions = model.predict(X_train_nn, batch_size=32, verbose=0)\n",
    "                    train_acc = accuracy_score(np.argmax(y_train_nn,axis=1),np.argmax(train_predictions,axis=1))\n",
    "                    train_auc = roc_auc_score(y_train_nn, train_predictions)\n",
    "                    test_auc = roc_auc_score(y_dev_nn, test_predictions)\n",
    "                    early_stoping_counter += 1\n",
    "                    if test_auc > best_test_auc:\n",
    "                        best_test_auc = test_auc\n",
    "                        best_train_auc = train_auc\n",
    "                        best_test_acc = test_acc\n",
    "                        best_train_acc = train_acc\n",
    "                        best_ep = ep\n",
    "                        early_stoping_counter -= 1\n",
    "                        if test_auc > best_test_auc+early_stoping_delta:\n",
    "                            early_stoping_counter = 0\n",
    "                    if early_stoping_counter == 6:\n",
    "                        break\n",
    "                    \n",
    "                params = [h_layer_1_nodes, h_layer_2_nodes, h_layer_3_nodes,A1, A2, A3, lerning_rate]\n",
    "                scores = params + [best_test_auc, best_train_auc, best_test_acc, best_train_acc, best_ep]\n",
    "                result_df = fill(result_df,i,scores)\n",
    "                i += 1\n",
    "                if i%10 == 0:\n",
    "                    print(i)\n",
    "    return result_df      \n",
    "res_df = parametar_search_3_layers()\n",
    "res_df.sort_values(by=['test_auc'], ascending=False, inplace=True)"
   ]
  },
  {
   "cell_type": "markdown",
   "metadata": {},
   "source": [
    "Tune  regularization (l2)  of the best MLP model"
   ]
  },
  {
   "cell_type": "code",
   "execution_count": null,
   "metadata": {},
   "outputs": [],
   "source": [
    "def l2_regularization_tuning():\n",
    "    l_2 = np.geomspace(0.0001, 0.13, num=60)\n",
    "    auc_results = []\n",
    "    for reg in l_2:\n",
    "        model = model_3_layers(14, 34, 7, \"relu\",\"relu\", \"tanh\", reg)\n",
    "        opt = Adam(lr=0.0015)\n",
    "        model.compile(loss='categorical_crossentropy', optimizer=opt, metrics=['accuracy'])\n",
    "        best_test_auc = 0              \n",
    "        early_stoping_counter = 0\n",
    "        early_stoping_delta = 0.01\n",
    "        for _ in range(1000):\n",
    "            model.fit(X_train_nn, y_train_nn, epochs=1, batch_size=32, shuffle=True,verbose=0)\n",
    "            test_predictions = model.predict(X_dev_nn, batch_size=32, verbose=0)\n",
    "            test_auc = roc_auc_score(y_dev_nn, test_predictions)\n",
    "            early_stoping_counter += 1\n",
    "            if test_auc > best_test_auc:\n",
    "                best_test_auc = test_auc\n",
    "                early_stoping_counter -= 1\n",
    "                if test_auc > best_test_auc+early_stoping_delta:\n",
    "                    early_stoping_counter = 0\n",
    "            if early_stoping_counter == 10:\n",
    "                break\n",
    "        auc_results.append(best_test_auc)\n",
    "    print(\"Best score:\",max(auc_results))\n",
    "    print(\"Best l2:\", l_2[auc_results.index(max(auc_results))])\n",
    "    \n",
    "    fig, ax = plt.subplots()\n",
    "    ax.plot(l_2, auc_results, \"bo\")\n",
    "    ax.plot(l_2, auc_results, \"k\")\n",
    "    ax.set(xlabel='l2 regularization', ylabel='Test AUC',title='AUC(regularization)')\n",
    "    ax.set_xscale(\"log\")\n",
    "    ax.grid()\n",
    "    \n",
    "l2_regularization_tuning()\n",
    "\n"
   ]
  },
  {
   "cell_type": "markdown",
   "metadata": {},
   "source": [
    "Train a model and save the best weights"
   ]
  },
  {
   "cell_type": "code",
   "execution_count": null,
   "metadata": {},
   "outputs": [],
   "source": [
    "\n",
    "def train_neural_network():\n",
    "    model = model_3_layers(14, 34, 7, \"relu\",\"relu\", \"tanh\", 0.0014492103248979129)\n",
    "    opt = Adam(lr=0.0015)\n",
    "    model.compile(loss='categorical_crossentropy', optimizer=opt, metrics=['accuracy'])\n",
    "    best_auc = 0\n",
    "    train_aucs = []\n",
    "    test_aucs = []\n",
    "    num_epochs = 1000\n",
    "    counter = 0 \n",
    "    for ep in range(1, num_epochs+1):\n",
    "        model.fit(X_train_nn, y_train_nn, epochs=1, batch_size=32, shuffle=True,verbose=0)\n",
    "        \n",
    "        test_predictions = model.predict(X_dev_nn, batch_size=32, verbose=0)\n",
    "        train_predictions = model.predict(X_train_nn, batch_size=32, verbose=0)\n",
    "        \n",
    "        test_auc = roc_auc_score(y_dev_nn, test_predictions)\n",
    "        train_auc = roc_auc_score(y_train_nn, train_predictions)\n",
    "        \n",
    "        train_aucs.append(train_auc)\n",
    "        test_aucs.append(test_auc)\n",
    "        counter += 1\n",
    "        if test_auc > best_auc:\n",
    "            counter = 0\n",
    "            best_auc = test_auc \n",
    "            model.save_weights(\"weights.h5\")\n",
    "            best_ep = ep\n",
    "        if counter == 20:\n",
    "            break\n",
    "    print(\"Best AUC:\",best_auc,\"  Best epoch:\" ,best_ep)\n",
    "    fig, ax = plt.subplots()\n",
    "    ax.plot(range(1,min(num_epochs+1,best_ep+21)), train_aucs, \"b--\", label=\"train\")\n",
    "    ax.plot(range(1,min(num_epochs+1,best_ep+21)), test_aucs, \"r--\", label=\"valid\")\n",
    "    ax.set(xlabel='epochs', ylabel='AUC',\n",
    "           title='AUC(epochs)')\n",
    "\n",
    "    ax.legend()\n",
    "    ax.grid()\n",
    "train_neural_network()"
   ]
  },
  {
   "cell_type": "markdown",
   "metadata": {},
   "source": [
    "# Models evaluation"
   ]
  },
  {
   "cell_type": "code",
   "execution_count": null,
   "metadata": {},
   "outputs": [],
   "source": [
    "def load_best_nn_model(weights_name):\n",
    "    model = model_3_layers(14, 34, 7, \"relu\",\"relu\", \"tanh\", 0.0014492103248979129)\n",
    "    model.load_weights(weights_name)\n",
    "    opt = Adam(lr=0.0015)\n",
    "    model.compile(loss='categorical_crossentropy', optimizer=opt, metrics=['accuracy'])\n",
    "    return model\n",
    "\n",
    "\n",
    "Logistic_Reg = LogisticRegression(C=100)\n",
    "Logistic_Reg.fit(X_train, y_train)\n",
    "\n",
    "Lin_SVM = SVC(kernel=\"linear\", C=100)\n",
    "Lin_SVM.fit(X_train, y_train)\n",
    "\n",
    "RBF_SVM = SVC(kernel=\"rbf\", C= 10, gamma = 0.007142857142857143)\n",
    "RBF_SVM.fit(X_train, y_train)\n",
    "\n",
    "DT_Boosted = AdaBoostClassifier(DecisionTreeClassifier(max_depth=1), n_estimators=140, learning_rate=0.2)\n",
    "DT_Boosted.fit(X_train, y_train)\n",
    "\n",
    "Neural_Net = load_best_nn_model(\"weights.h5\")"
   ]
  },
  {
   "cell_type": "markdown",
   "metadata": {},
   "source": [
    "Compare the diffrent models(RBF-SVM, Adaboost, Linear-SVM, Logistic Regression, MLP with best weights saved during traing, MLP for fixed iterations)"
   ]
  },
  {
   "cell_type": "code",
   "execution_count": 8,
   "metadata": {},
   "outputs": [
    {
     "name": "stdout",
     "output_type": "stream",
     "text": [
      "0.7611172305271441 0.7579071597167584 0.7622501966955154 0.8121951219512196 0.789110936270653\n"
     ]
    },
    {
     "data": {
      "image/png": "[encoded data removed]",
      "text/plain": [
       "<Figure size 720x360 with 1 Axes>"
      ]
     },
     "metadata": {},
     "output_type": "display_data"
    }
   ],
   "source": [
    "def evalueate_clf(Logistic_Reg, Lin_SVM, RBF_SVM, DT_Boosted, Neural_Net, X, y):\n",
    "    Logistic_Reg_AUC = roc_auc_score(y, Logistic_Reg.decision_function(X))\n",
    "    Lin_SVM_AUC = roc_auc_score(y, Lin_SVM.decision_function(X))\n",
    "    RBF_SVM_AUC = roc_auc_score(y, RBF_SVM.decision_function(X))\n",
    "    DT_Boosted_AUC = roc_auc_score(y, DT_Boosted.decision_function(X))\n",
    "    Neural_Net_AUC = roc_auc_score(np.hstack([1-y,y]), Neural_Net.predict(X, batch_size=32, verbose=0))\n",
    "    print(Logistic_Reg_AUC, Lin_SVM_AUC, RBF_SVM_AUC, DT_Boosted_AUC, Neural_Net_AUC)\n",
    "    \n",
    "    named_order = [\"Logistic Regression\", \"Linear SVM\", \"RBF SVM\", \"AdaBoost\", \"MLP\"]\n",
    "    result = [Logistic_Reg_AUC, Lin_SVM_AUC, RBF_SVM_AUC, DT_Boosted_AUC, Neural_Net_AUC]\n",
    "    ind = np.arange(len(result))  \n",
    "    width = 0.9       \n",
    "\n",
    "    fig, ax = plt.subplots(figsize=(10, 5))\n",
    "\n",
    "    rects1 = ax.bar(ind, result, width, color='b')\n",
    "    \n",
    "    ax.set_ylabel('AUC',fontsize=15)\n",
    "    ax.set_title('AUC for different classifiers',fontsize=20)\n",
    "    ax.set_xticks(ind)\n",
    "    ax.set_xticklabels((named_order))\n",
    "    ax.set_ylim([min(result)-0.02,  max(result)+0.02])\n",
    "evalueate_clf(Logistic_Reg, Lin_SVM, RBF_SVM, DT_Boosted, Neural_Net,  X_test, y_test)"
   ]
  },
  {
   "cell_type": "markdown",
   "metadata": {},
   "source": [
    "Investigate the diversity of the classifiers. The Corss section/Union of the examples they make errors on is a suitable metric(Ansamble of them could be made if they make misatkes on diffrent examples)."
   ]
  },
  {
   "cell_type": "code",
   "execution_count": 9,
   "metadata": {},
   "outputs": [
    {
     "name": "stdout",
     "output_type": "stream",
     "text": [
      "[[1.         0.82003494 0.66251416 0.45005149 0.55977131]\n",
      " [0.82003494 1.         0.70028986 0.42647059 0.5156724 ]\n",
      " [0.66251416 0.70028986 1.         0.41531823 0.5527916 ]\n",
      " [0.45005149 0.42647059 0.41531823 1.         0.41675448]\n",
      " [0.55977131 0.5156724  0.5527916  0.41675448 1.        ]]\n"
     ]
    },
    {
     "data": {
      "image/png": "[encoded data removed]",
      "text/plain": [
       "<Figure size 1296x720 with 2 Axes>"
      ]
     },
     "metadata": {},
     "output_type": "display_data"
    }
   ],
   "source": [
    "def compare_clf(Logistic_Reg, Lin_SVM, RBF_SVM, DT_Boosted, Neural_Net, X, y):\n",
    "    \n",
    "    Logistic_Reg_Pred = Logistic_Reg.predict(X).reshape(y.shape) \n",
    "    Lin_SVM_Pred = Lin_SVM.predict(X).reshape(y.shape)\n",
    "    RBF_SVM_Pred = RBF_SVM.predict(X).reshape(y.shape) \n",
    "    DT_Boosted_Pred = DT_Boosted.predict(X).reshape(y.shape) \n",
    "    Neural_Net_Pred = np.argmax(Neural_Net.predict(X, batch_size=32, verbose=0), axis=1).reshape(y.shape)\n",
    "\n",
    "    \n",
    "    simalrity_matrix = np.zeros(shape = (5,5))\n",
    "    named_order = [\"Logistic Regression\", \"Linear SVM\", \"RBF SVM\", \"AdaBoost\", \"Multilayer Perceptron\"]\n",
    "    classifiers_pred = [Logistic_Reg_Pred, Lin_SVM_Pred, RBF_SVM_Pred, DT_Boosted_Pred, Neural_Net_Pred]\n",
    "    \n",
    "    num_samples = X.shape[0]\n",
    "    \n",
    "    for i in range(len(classifiers_pred)):\n",
    "        for j in range(len(classifiers_pred)):\n",
    "            errors_clf_i = np.not_equal(classifiers_pred[i], y)\n",
    "            errors_clf_j = np.not_equal(classifiers_pred[j],y)\n",
    "            crossection_errors = np.sum(np.logical_and(errors_clf_i, errors_clf_j))\n",
    "            union_errors = np.sum(errors_clf_i)+np.sum(errors_clf_j)-crossection_errors\n",
    "            simalrity_matrix[i,j] = crossection_errors/union_errors\n",
    "    print(simalrity_matrix)\n",
    "    plt.imshow(simalrity_matrix, interpolation='nearest', cmap=plt.cm.OrRd)\n",
    "    plt.title('Cross Section Errors / Union Errors',fontsize=20)\n",
    "    plt.colorbar()\n",
    "    tick_marks = np.arange(len(named_order))\n",
    "    plt.xticks(tick_marks, named_order, rotation=45)\n",
    "    plt.yticks(tick_marks, named_order)\n",
    "    plt.tight_layout()\n",
    "    fig = matplotlib.pyplot.gcf()\n",
    "    fig.set_size_inches(18, 10)\n",
    "compare_clf(Logistic_Reg, Lin_SVM, RBF_SVM, DT_Boosted, Neural_Net, np.vstack([X_train, X_test]), np.vstack([y_train, y_test]))   "
   ]
  },
  {
   "cell_type": "markdown",
   "metadata": {},
   "source": [
    "Final neural net seetings just for visualisation "
   ]
  },
  {
   "cell_type": "code",
   "execution_count": 10,
   "metadata": {},
   "outputs": [
    {
     "name": "stdout",
     "output_type": "stream",
     "text": [
      "_________________________________________________________________\n",
      "Layer (type)                 Output Shape              Param #   \n",
      "=================================================================\n",
      "dense_5 (Dense)              (None, 14)                504       \n",
      "_________________________________________________________________\n",
      "dense_6 (Dense)              (None, 34)                510       \n",
      "_________________________________________________________________\n",
      "dense_7 (Dense)              (None, 7)                 245       \n",
      "_________________________________________________________________\n",
      "dense_8 (Dense)              (None, 2)                 16        \n",
      "=================================================================\n",
      "Total params: 1,275\n",
      "Trainable params: 1,275\n",
      "Non-trainable params: 0\n",
      "_________________________________________________________________\n"
     ]
    }
   ],
   "source": [
    "model = Sequential()\n",
    "model.add(Dense(14, input_dim=X_train_nn.shape[1], activation= \"relu\", kernel_regularizer=regularizers.l2(0.0014492103248979129)))\n",
    "model.add(Dense(34, activation= \"relu\", kernel_regularizer=regularizers.l2(0.0014492103248979129)))\n",
    "model.add(Dense(7, activation=\"tanh\",kernel_regularizer=regularizers.l2(0.0014492103248979129)))\n",
    "model.add(Dense(2, activation='softmax'))\n",
    "opt = Adam(lr=0.0015)\n",
    "model.compile(loss='categorical_crossentropy', optimizer=opt, metrics=['accuracy'])\n",
    "model.summary()"
   ]
  }
 ],
 "metadata": {
  "kernelspec": {
   "display_name": "Python 3",
   "language": "python",
   "name": "python3"
  },
  "language_info": {
   "codemirror_mode": {
    "name": "ipython",
    "version": 3
   },
   "file_extension": ".py",
   "mimetype": "text/x-python",
   "name": "python",
   "nbconvert_exporter": "python",
   "pygments_lexer": "ipython3",
   "version": "3.6.4"
  }
 },
 "nbformat": 4,
 "nbformat_minor": 2
}
