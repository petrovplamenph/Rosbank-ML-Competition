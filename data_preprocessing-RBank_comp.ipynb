{
 "cells": [
  {
   "cell_type": "code",
   "execution_count": 1,
   "metadata": {},
   "outputs": [],
   "source": [
    "import pandas as pd\n",
    "import numpy as np\n",
    "import copy\n",
    "from datetime import timedelta\n",
    "from sklearn.preprocessing import StandardScaler\n",
    "from sklearn.utils import shuffle"
   ]
  },
  {
   "cell_type": "markdown",
   "metadata": {},
   "source": [
    "Read the data:\n",
    "File train.csv contains anotated data.\n",
    "File test.csv contains data on which predictions have to be made and submited for the competition."
   ]
  },
  {
   "cell_type": "code",
   "execution_count": 2,
   "metadata": {},
   "outputs": [],
   "source": [
    "df = pd.read_csv(\"files_task1/train.csv\")\n",
    "df_test = pd.read_csv(\"files_task1/test.csv\")\n",
    "df_test[\"target_flag\"] = 0\n",
    "df_test[\"target_sum\"] = 0\n",
    "# df_comb is all the data in one dataframe\n",
    "df_comb = pd.concat([df,df_test])"
   ]
  },
  {
   "cell_type": "markdown",
   "metadata": {},
   "source": [
    "Chek for the same IDs in the two data sets"
   ]
  },
  {
   "cell_type": "code",
   "execution_count": 30,
   "metadata": {},
   "outputs": [
    {
     "data": {
      "text/plain": [
       "Int64Index([], dtype='int64', name='cl_id')"
      ]
     },
     "execution_count": 30,
     "metadata": {},
     "output_type": "execute_result"
    }
   ],
   "source": [
    "pd.Index(df[\"cl_id\"]).intersection(pd.Index(df_test[\"cl_id\"]))\n",
    "# The intersection is empty"
   ]
  },
  {
   "cell_type": "code",
   "execution_count": 4,
   "metadata": {},
   "outputs": [
    {
     "data": {
      "text/html": [
       "<div>\n",
       "<style scoped>\n",
       "    .dataframe tbody tr th:only-of-type {\n",
       "        vertical-align: middle;\n",
       "    }\n",
       "\n",
       "    .dataframe tbody tr th {\n",
       "        vertical-align: top;\n",
       "    }\n",
       "\n",
       "    .dataframe thead th {\n",
       "        text-align: right;\n",
       "    }\n",
       "</style>\n",
       "<table border=\"1\" class=\"dataframe\">\n",
       "  <thead>\n",
       "    <tr style=\"text-align: right;\">\n",
       "      <th></th>\n",
       "      <th>PERIOD</th>\n",
       "      <th>cl_id</th>\n",
       "      <th>MCC</th>\n",
       "      <th>channel_type</th>\n",
       "      <th>currency</th>\n",
       "      <th>TRDATETIME</th>\n",
       "      <th>amount</th>\n",
       "      <th>trx_category</th>\n",
       "      <th>target_flag</th>\n",
       "      <th>target_sum</th>\n",
       "    </tr>\n",
       "  </thead>\n",
       "  <tbody>\n",
       "    <tr>\n",
       "      <th>0</th>\n",
       "      <td>01/10/2017</td>\n",
       "      <td>0</td>\n",
       "      <td>5200</td>\n",
       "      <td>NaN</td>\n",
       "      <td>810</td>\n",
       "      <td>21OCT17:00:00:00</td>\n",
       "      <td>5023.0</td>\n",
       "      <td>POS</td>\n",
       "      <td>0</td>\n",
       "      <td>0.0</td>\n",
       "    </tr>\n",
       "    <tr>\n",
       "      <th>1</th>\n",
       "      <td>01/10/2017</td>\n",
       "      <td>0</td>\n",
       "      <td>6011</td>\n",
       "      <td>NaN</td>\n",
       "      <td>810</td>\n",
       "      <td>12OCT17:12:24:07</td>\n",
       "      <td>20000.0</td>\n",
       "      <td>DEPOSIT</td>\n",
       "      <td>0</td>\n",
       "      <td>0.0</td>\n",
       "    </tr>\n",
       "    <tr>\n",
       "      <th>2</th>\n",
       "      <td>01/12/2017</td>\n",
       "      <td>0</td>\n",
       "      <td>5921</td>\n",
       "      <td>NaN</td>\n",
       "      <td>810</td>\n",
       "      <td>05DEC17:00:00:00</td>\n",
       "      <td>767.0</td>\n",
       "      <td>POS</td>\n",
       "      <td>0</td>\n",
       "      <td>0.0</td>\n",
       "    </tr>\n",
       "    <tr>\n",
       "      <th>3</th>\n",
       "      <td>01/10/2017</td>\n",
       "      <td>0</td>\n",
       "      <td>5411</td>\n",
       "      <td>NaN</td>\n",
       "      <td>810</td>\n",
       "      <td>21OCT17:00:00:00</td>\n",
       "      <td>2031.0</td>\n",
       "      <td>POS</td>\n",
       "      <td>0</td>\n",
       "      <td>0.0</td>\n",
       "    </tr>\n",
       "    <tr>\n",
       "      <th>4</th>\n",
       "      <td>01/10/2017</td>\n",
       "      <td>0</td>\n",
       "      <td>6012</td>\n",
       "      <td>NaN</td>\n",
       "      <td>810</td>\n",
       "      <td>24OCT17:13:14:24</td>\n",
       "      <td>36562.0</td>\n",
       "      <td>C2C_OUT</td>\n",
       "      <td>0</td>\n",
       "      <td>0.0</td>\n",
       "    </tr>\n",
       "  </tbody>\n",
       "</table>\n",
       "</div>"
      ],
      "text/plain": [
       "       PERIOD  cl_id   MCC channel_type  currency        TRDATETIME   amount  \\\n",
       "0  01/10/2017      0  5200          NaN       810  21OCT17:00:00:00   5023.0   \n",
       "1  01/10/2017      0  6011          NaN       810  12OCT17:12:24:07  20000.0   \n",
       "2  01/12/2017      0  5921          NaN       810  05DEC17:00:00:00    767.0   \n",
       "3  01/10/2017      0  5411          NaN       810  21OCT17:00:00:00   2031.0   \n",
       "4  01/10/2017      0  6012          NaN       810  24OCT17:13:14:24  36562.0   \n",
       "\n",
       "  trx_category  target_flag  target_sum  \n",
       "0          POS            0         0.0  \n",
       "1      DEPOSIT            0         0.0  \n",
       "2          POS            0         0.0  \n",
       "3          POS            0         0.0  \n",
       "4      C2C_OUT            0         0.0  "
      ]
     },
     "execution_count": 4,
     "metadata": {},
     "output_type": "execute_result"
    }
   ],
   "source": [
    "df.head()"
   ]
  },
  {
   "cell_type": "code",
   "execution_count": 26,
   "metadata": {},
   "outputs": [
    {
     "data": {
      "text/plain": [
       "(490513, 10)"
      ]
     },
     "execution_count": 26,
     "metadata": {},
     "output_type": "execute_result"
    }
   ],
   "source": [
    "df.shape"
   ]
  },
  {
   "cell_type": "markdown",
   "metadata": {},
   "source": [
    "Find how many missing values are in eavry column"
   ]
  },
  {
   "cell_type": "code",
   "execution_count": 6,
   "metadata": {},
   "outputs": [
    {
     "data": {
      "text/plain": [
       "(0, 5064, 0, 0, 0, 0, 0)"
      ]
     },
     "execution_count": 6,
     "metadata": {},
     "output_type": "execute_result"
    }
   ],
   "source": [
    "(df_comb[\"MCC\"].isnull().sum(),\n",
    "df_comb[\"channel_type\"].isnull().sum(),\n",
    "df_comb[\"TRDATETIME\"].isnull().sum(),\n",
    "df_comb[\"currency\"].isnull().sum(),\n",
    "df_comb[\"amount\"].isnull().sum(),\n",
    "df_comb[\"target_flag\"].isnull().sum(),\n",
    "df_comb[\"target_sum\"].isnull().sum())"
   ]
  },
  {
   "cell_type": "markdown",
   "metadata": {},
   "source": [
    "Information about the \"trx_category\" column"
   ]
  },
  {
   "cell_type": "code",
   "execution_count": 7,
   "metadata": {},
   "outputs": [
    {
     "name": "stdout",
     "output_type": "stream",
     "text": [
      "0\n"
     ]
    },
    {
     "data": {
      "text/plain": [
       "array(['POS', 'DEPOSIT', 'C2C_OUT', 'WD_ATM_ROS', 'BACK_TRX',\n",
       "       'WD_ATM_PARTNER', 'WD_ATM_OTHER', 'C2C_IN', 'CAT', 'CASH_ADV'],\n",
       "      dtype=object)"
      ]
     },
     "execution_count": 7,
     "metadata": {},
     "output_type": "execute_result"
    }
   ],
   "source": [
    "print((df[\"trx_category\"].unique() != df_comb[\"trx_category\"].unique()).sum())\n",
    "df[\"trx_category\"].unique()"
   ]
  },
  {
   "cell_type": "markdown",
   "metadata": {},
   "source": [
    "Chanal type is a colmun regrading the chanel used to give offer to the user"
   ]
  },
  {
   "cell_type": "code",
   "execution_count": 8,
   "metadata": {},
   "outputs": [
    {
     "data": {
      "text/plain": [
       "type1    299247\n",
       "type2    175013\n",
       "type5      5587\n",
       "type4      4476\n",
       "type3      3280\n",
       "Name: channel_type, dtype: int64"
      ]
     },
     "execution_count": 8,
     "metadata": {},
     "output_type": "execute_result"
    }
   ],
   "source": [
    "df[\"channel_type\"].value_counts()"
   ]
  },
  {
   "cell_type": "markdown",
   "metadata": {},
   "source": [
    "Convert the columns containing information about the time of the transaction to suitable type and format"
   ]
  },
  {
   "cell_type": "code",
   "execution_count": 4,
   "metadata": {},
   "outputs": [],
   "source": [
    "df = df.fillna(\"unknown\")\n",
    "df[\"PERIOD\"] = pd.to_datetime(df[\"PERIOD\"])\n",
    "df_comb = df_comb.fillna(\"unknown\")\n",
    "df_comb[\"PERIOD\"] = pd.to_datetime(df_comb[\"PERIOD\"])\n",
    "df[\"TRDATETIME\"] = df[\"TRDATETIME\"].apply(lambda x: float(x[5:7])+float(x[8:10])/60)\n",
    "df_comb[\"TRDATETIME\"] = df_comb[\"TRDATETIME\"].apply(lambda x: float(x[5:7])+float(x[8:10])/60)"
   ]
  },
  {
   "cell_type": "markdown",
   "metadata": {},
   "source": [
    "Dictonary containing ruff estamates for code of currency - average exchange rate for 2017(RUB)"
   ]
  },
  {
   "cell_type": "code",
   "execution_count": 5,
   "metadata": {},
   "outputs": [],
   "source": [
    "conv_dict_cur_to_rub = {32:3.5, 36:44, 44:60, 48:155, 51:0.12, 124:44, 144:0.38, 156:8.5, 170:0.02, 188:0.1, 191:8.6, 203:2.5, 208:8.9, 214:1.3, 344:7.5, 348:0.21, 352:0.53, 356:0.9, 360:0.0045, 376:16, 392:0.52, 398:0.18, 404:0.6, 410:0.0515, 417:0.95, 446:7.58, 458:14.5, 462:3.95, 480:1.7, 484:3, 496:0.025, 498:3.3, 504:6.4, 516:4.5, 524:0.56, 554:42, 578:7, 604:18.7, 608:1.15, 634:16, 643:1, 690:4.5, 702:42, 704:0.0027, 710:4.5, 752:6.8, 756:59.9, 764:1.73, 784:15.9, 788:23.7, 800:0.017, 810:1, 826:75, 840:58, 901:1.91, 933:30.6, 941:4.5, 944:35.9, 946:15.5, 949:16, 975:36.9, 977:36.9, 978:72.1, 980:2.35, 981:25, 985:16.8, 986:16.8}"
   ]
  },
  {
   "cell_type": "markdown",
   "metadata": {},
   "source": [
    "Engineer features for the users.\n",
    "Two diffrent ways to represent the data: \n",
    "1. User behaviour before and during the period of using the special service. \n",
    "There is no data for all useres prior to the special service.\n",
    "2. User behaviour for the whole period. \n"
   ]
  },
  {
   "cell_type": "code",
   "execution_count": 6,
   "metadata": {},
   "outputs": [],
   "source": [
    "# user IDs\n",
    "ids = []\n",
    "# Time diffrence between the first and last transaction\n",
    "time_deltas = []\n",
    "\n",
    "# Columns to predict\n",
    "# target_flags - Will the user continue to use the service\n",
    "# target_sums - Flow of transaction from POS TERMINAL\n",
    "target_flags = []\n",
    "target_sums = []\n",
    "\n",
    "\n",
    "# Total number of transactions\n",
    "num_transactions = []\n",
    "num_transactions_before = []\n",
    "num_transactions_during = []\n",
    "\n",
    "# How many types of currencies the user have used\n",
    "num_currancy = []\n",
    "num_currancy_before = []\n",
    "num_currancy_during = []\n",
    "\n",
    "# In how many diffrent types of places the user have spended money\n",
    "mcc_var = []\n",
    "mcc_var_before = []\n",
    "mcc_var_during = []\n",
    "\n",
    "# How many diffrent types of transcation the user have executed\n",
    "trans_var = []\n",
    "trans_var_before = []\n",
    "trans_var_during = []\n",
    "\n",
    "# Mean time of the day for the transcations\n",
    "trd_time_mean = []\n",
    "trd_time_mean_before = []\n",
    "trd_time_mean_during = []\n",
    "\n",
    "# STD of the mean time of the day for the transcations\n",
    "trd_time_std = []\n",
    "trd_time_std_before = []\n",
    "trd_time_std_during = []\n",
    "\n",
    "# Total flow of money(RUB)\n",
    "total_rub_cur = []\n",
    "total_rub_cur_before = []\n",
    "total_rub_cur_during = []\n",
    "\n",
    "# Mean flow of money(RUB)\n",
    "mean_rub_cur = []\n",
    "mean_rub_cur_before = []\n",
    "mean_rub_cur_during = []\n",
    "\n",
    "# Output flow(RUB)\n",
    "total_output = []\n",
    "total_output_before = []\n",
    "total_output_during = []\n",
    "\n",
    "# Input flow(RUB)\n",
    "total_input = []\n",
    "total_input_during = []\n",
    "total_input_before = []\n",
    "\n",
    "# Output flow/Input flow\n",
    "total_net = []\n",
    "total_net_before = []\n",
    "total_net_during = []\n",
    "\n",
    "num_POS_transactions_during = []\n",
    "num_POS_transactions_before = []\n",
    "amt_POS_transactions_during = []\n",
    "amt_POS_transactions_before = []\n",
    "\n",
    "\n",
    "# Chanel used to give the offer to user. The chanels except 1 and 2 are not offten used.\n",
    "chanels_dict= {'type2':[],'type1':[]}\n",
    "chanels_mapping = {'type2':2, 'type1': 1}\n",
    "\n",
    "# Groups of simmilar types of transactions\n",
    "input_flow_types = [\"C2C_IN\",\"DEPOSIT\"]\n",
    "WD_ATM = ['WD_ATM_ROS' ,'WD_ATM_PARTNER','WD_ATM_OTHER','CASH_ADV']\n",
    "C2C = ['C2C_IN','C2C_OUT']\n",
    "POS_CAT = [\"POS\", \"CAT\"]\n",
    "\n",
    "# Dict. that will contain the Amount of money for the transaction type/ Total flow of money\n",
    "total_transactions_dict = {\"WD_ATM\":[],\"DEPOSIT\":[],\"C2C\":[],\"BACK_TRX\":[],\"POS_CAT\":[]}\n",
    "emtpy_transactions_dict =  {\"WD_ATM\":0,\"DEPOSIT\":0,\"C2C\":0,\"BACK_TRX\":0,\"POS_CAT\":0}\n",
    "total_transactions_dict_before = copy.deepcopy(total_transactions_dict)\n",
    "total_transactions_dict_during = copy.deepcopy(total_transactions_dict)\n",
    "\n",
    "\n",
    "before_features = [num_transactions_before, num_currancy_before ,mcc_var_before,\n",
    "                   trans_var_before, trd_time_mean_before, trd_time_std_before, \n",
    "                   total_rub_cur_before, mean_rub_cur_before, total_output_before,\n",
    "                   total_input_before, total_net_before]\n",
    "\n",
    "during_features = [num_transactions_during, num_currancy_during, mcc_var_during, \n",
    "                   trans_var_during, trd_time_mean_during, trd_time_std_during, \n",
    "                   total_rub_cur_during, mean_rub_cur_during, total_output_during,\n",
    "                   total_input_during, total_net_during]\n",
    "\n",
    "# Iterate over all users \n",
    "for i_d in df_comb[\"cl_id\"].unique():\n",
    "    ids.append(i_d)  \n",
    "    mini_df = df_comb[df_comb[\"cl_id\"]== i_d]\n",
    "    min_time = mini_df[\"PERIOD\"].min()\n",
    "    max_time = mini_df[\"PERIOD\"].max()\n",
    "    time_delta = abs(int((max_time - min_time).days))\n",
    "    time_deltas.append(time_delta)    \n",
    "    trans_num = mini_df.shape[0]\n",
    "    num_transactions.append(trans_num)\n",
    "    \n",
    "    num_currancy.append(len(list(mini_df[\"currency\"].unique())))\n",
    "    mcc_var.append(len(list(mini_df[\"MCC\"].unique())))\n",
    "    trans_var.append(len(list(mini_df[\"trx_category\"].unique())))\n",
    "    trd_time_mean.append(mini_df[\"TRDATETIME\"].mean())\n",
    "    trd_time_std.append(mini_df[\"TRDATETIME\"].std())\n",
    "    \n",
    "    target_sums.append(mini_df[\"target_sum\"].mean())\n",
    "    target_flags.append(mini_df[\"target_flag\"].mean())\n",
    "    total_user_rub_cur = 0\n",
    "    user_output = 0\n",
    "    user_input = 0\n",
    "    for i in range(trans_num):\n",
    "        row = mini_df.iloc[i,:]\n",
    "        type_curr = row[\"currency\"]       \n",
    "        transact_amount_user = conv_dict_cur_to_rub[type_curr]*row[\"amount\"]\n",
    "        total_user_rub_cur =+ transact_amount_user\n",
    "        if row[\"trx_category\"] in input_flow_types:\n",
    "            user_input += transact_amount_user\n",
    "        else:\n",
    "            user_output += transact_amount_user\n",
    "    ch = mini_df[\"channel_type\"].unique()[0]\n",
    "    if ch in chanels_dict:\n",
    "        chanels_dict[ch].append(chanels_mapping[ch])\n",
    "    for key in chanels_dict:\n",
    "        if key != ch:\n",
    "            chanels_dict[key].append(0)\n",
    "    \n",
    "    total_rub_cur.append(total_user_rub_cur)\n",
    "    mean_rub_cur.append(total_user_rub_cur/trans_num)\n",
    "    \n",
    "    total_output.append(user_output)\n",
    "    total_input.append(user_input)\n",
    "    if user_input == 0:\n",
    "        total_net.append(1)\n",
    "    else:\n",
    "        total_net.append(user_output/user_input)\n",
    "    \n",
    "\n",
    "    user_transactions_dict = copy.deepcopy(emtpy_transactions_dict)\n",
    "    user_amount_of_total_transactions_dict = copy.deepcopy(emtpy_transactions_dict)\n",
    "\n",
    "    for i in range(trans_num):\n",
    "        row = mini_df.iloc[i,:]\n",
    "        trx = row[\"trx_category\"]\n",
    "        type_curr = row[\"currency\"]\n",
    "        amount_rub = conv_dict_cur_to_rub[type_curr]*row[\"amount\"]\n",
    "        if trx in WD_ATM:\n",
    "            user_amount_of_total_transactions_dict[\"WD_ATM\"] += amount_rub\n",
    "        elif trx in C2C:\n",
    "             user_amount_of_total_transactions_dict[\"C2C\"] += amount_rub\n",
    "        elif trx in POS_CAT:\n",
    "            user_amount_of_total_transactions_dict[\"POS_CAT\"] += amount_rub\n",
    "                \n",
    "        else:\n",
    "            user_amount_of_total_transactions_dict[trx] += amount_rub\n",
    "                \n",
    "                \n",
    "                \n",
    "                \n",
    "            \n",
    "    for t in user_amount_of_total_transactions_dict:\n",
    "        total_transactions_dict[t].append(user_amount_of_total_transactions_dict[t]/total_user_rub_cur)\n",
    "\n",
    "for i_d in df_comb[\"cl_id\"].unique():\n",
    "    client_df = df_comb[df_comb[\"cl_id\"]==i_d]\n",
    "    max_time = client_df[\"PERIOD\"].max()\n",
    "    start_time = max_time - timedelta(days=90)\n",
    "    mini_df_before = client_df[client_df[\"PERIOD\"] < start_time]\n",
    "    mini_df_during = client_df[client_df[\"PERIOD\"] >= start_time]\n",
    "    min_time = client_df[\"PERIOD\"].min()\n",
    "    \n",
    "    num_days = (abs(int((max_time - min_time).days))-90)\n",
    "    k = 90/num_days\n",
    "    \n",
    "    num_POS_transactions_during.append((mini_df_during[\"trx_category\"]==\"POS\").sum()*k)\n",
    "    num_POS_transactions_before.append((mini_df_before[\"trx_category\"]==\"POS\").sum()*k)\n",
    "    trans_num = mini_df_before.shape[0]\n",
    "    if trans_num == 0:\n",
    "        num_POS_transactions_before.append(0)\n",
    "        amt_POS_transactions_before.append(0)\n",
    "        for f in before_features:\n",
    "            f.append(0)\n",
    "        for key in total_transactions_dict_before:\n",
    "            total_transactions_dict_before[key].append(0)\n",
    "    else:\n",
    "        num_transactions_before.append(trans_num*k)\n",
    "\n",
    "        num_currancy_before.append(len(list(mini_df_before[\"currency\"].unique())))\n",
    "        mcc_var_before.append(len(list(mini_df_before[\"MCC\"].unique())))\n",
    "        trans_var_before.append(len(list(mini_df_before[\"trx_category\"].unique())))\n",
    "        trd_time_mean_before.append(mini_df_before[\"TRDATETIME\"].mean())\n",
    "        trd_time_std_before.append(mini_df_before[\"TRDATETIME\"].std())\n",
    "        total_user_rub_cur = 0\n",
    "        user_output = 0\n",
    "        user_input = 0\n",
    "        for i in range(trans_num):\n",
    "            row = mini_df_before.iloc[i,:]\n",
    "            type_curr = row[\"currency\"]       \n",
    "            transact_amount_user = conv_dict_cur_to_rub[type_curr]*row[\"amount\"]\n",
    "            total_user_rub_cur =+ transact_amount_user\n",
    "            if row[\"trx_category\"] in input_flow_types:\n",
    "                user_input += transact_amount_user\n",
    "            else:\n",
    "                user_output += transact_amount_user\n",
    "\n",
    "        total_rub_cur_before.append(total_user_rub_cur*k)\n",
    "        mean_rub_cur_before.append(k*total_user_rub_cur/trans_num)\n",
    "\n",
    "        total_output_before.append(k*user_output)\n",
    "        total_input_before.append(k*user_input)\n",
    "        if user_input == 0:\n",
    "            total_net_before.append(1)\n",
    "        else:\n",
    "            total_net_before.append(user_output/user_input)\n",
    "\n",
    "        user_amount_of_total_transactions_dict = copy.deepcopy(emtpy_transactions_dict)\n",
    "\n",
    "        for i in range(trans_num):\n",
    "            row = mini_df_before.iloc[i,:]\n",
    "            trx = row[\"trx_category\"]\n",
    "            type_curr = row[\"currency\"]\n",
    "            amount_rub = conv_dict_cur_to_rub[type_curr]*row[\"amount\"]*k\n",
    "            if trx in WD_ATM:\n",
    "                user_amount_of_total_transactions_dict[\"WD_ATM\"] += amount_rub\n",
    "            elif trx in C2C:\n",
    "                 user_amount_of_total_transactions_dict[\"C2C\"] += amount_rub\n",
    "            elif trx in POS_CAT:\n",
    "                user_amount_of_total_transactions_dict[\"POS_CAT\"] += amount_rub\n",
    "            else:\n",
    "                user_amount_of_total_transactions_dict[trx] += amount_rub\n",
    "\n",
    "\n",
    "\n",
    "        amt_POS_transactions_before.append(user_amount_of_total_transactions_dict[\"POS_CAT\"]*k)\n",
    "        for t in user_amount_of_total_transactions_dict:\n",
    "            total_transactions_dict_before[t].append(user_amount_of_total_transactions_dict[t]*k)  \n",
    "            \n",
    "    trans_num = mini_df_during.shape[0]\n",
    "    if trans_num == 0:\n",
    "        num_POS_transactions_during.append(0)\n",
    "        amt_POS_transactions_during.append(0)\n",
    "        for f in during_features:\n",
    "            f.append(0)\n",
    "        for key in total_transactions_dict_during:\n",
    "            total_transactions_dict_during[key].append(0)\n",
    "    else:\n",
    "        num_transactions_during.append(trans_num)\n",
    "\n",
    "        num_currancy_during.append(len(list(mini_df_during[\"currency\"].unique())))\n",
    "        mcc_var_during.append(len(list(mini_df_during[\"MCC\"].unique())))\n",
    "        trans_var_during.append(len(list(mini_df_during[\"trx_category\"].unique())))\n",
    "        trd_time_mean_during.append(mini_df_during[\"TRDATETIME\"].mean())\n",
    "        trd_time_std_during.append(mini_df_during[\"TRDATETIME\"].std())\n",
    "        total_user_rub_cur = 0\n",
    "        user_output = 0\n",
    "        user_input = 0\n",
    "        for i in range(trans_num):\n",
    "            row = mini_df_during.iloc[i,:]\n",
    "            type_curr = row[\"currency\"]       \n",
    "            transact_amount_user = conv_dict_cur_to_rub[type_curr]*row[\"amount\"]\n",
    "            total_user_rub_cur =+ transact_amount_user\n",
    "            if row[\"trx_category\"] in input_flow_types:\n",
    "                user_input += transact_amount_user\n",
    "            else:\n",
    "                user_output += transact_amount_user\n",
    "\n",
    "        total_rub_cur_during.append(total_user_rub_cur)\n",
    "        mean_rub_cur_during.append(total_user_rub_cur/trans_num)\n",
    "\n",
    "        total_output_during.append(user_output)\n",
    "        total_input_during.append(user_input)\n",
    "        if user_input == 0:\n",
    "            total_net_during.append(1)\n",
    "        else:\n",
    "            total_net_during.append(user_output/user_input)\n",
    "\n",
    "        user_amount_of_total_transactions_dict = copy.deepcopy(emtpy_transactions_dict)\n",
    "\n",
    "        for i in range(trans_num):\n",
    "            row = mini_df_during.iloc[i,:]\n",
    "            trx = row[\"trx_category\"]\n",
    "            type_curr = row[\"currency\"]\n",
    "            amount_rub = conv_dict_cur_to_rub[type_curr]*row[\"amount\"]\n",
    "            if trx in WD_ATM:\n",
    "                user_amount_of_total_transactions_dict[\"WD_ATM\"] += amount_rub\n",
    "            elif trx in C2C:\n",
    "                 user_amount_of_total_transactions_dict[\"C2C\"] += amount_rub\n",
    "            elif trx in POS_CAT:\n",
    "                user_amount_of_total_transactions_dict[\"POS_CAT\"] += amount_rub\n",
    "            else:\n",
    "                user_amount_of_total_transactions_dict[trx] += amount_rub\n",
    "\n",
    "        amt_POS_transactions_during.append(user_amount_of_total_transactions_dict[\"POS_CAT\"])\n",
    "        for t in user_amount_of_total_transactions_dict:\n",
    "            total_transactions_dict_during[t].append(user_amount_of_total_transactions_dict[t]/total_user_rub_cur)\n"
   ]
  },
  {
   "cell_type": "markdown",
   "metadata": {},
   "source": [
    "Uncomment for representation 2, however the 1st type gave better scores"
   ]
  },
  {
   "cell_type": "code",
   "execution_count": null,
   "metadata": {},
   "outputs": [],
   "source": [
    "\"\"\"\n",
    "named_feats = [\"num_transactions\", \"num_currancy\",\"mcc_var\",\n",
    "                   \"trans_var\", \"trd_time_mean\", \"trd_time_std\", \n",
    "                   \"total_rub_cur\", \"mean_rub_cur\", \"total_output\",\n",
    "                   \"total_input\", \"total_net\"]\n",
    "\n",
    "named_feats.append(\"time_deltas\")\n",
    "features = [num_transactions,num_currancy,mcc_var,trans_var, trd_time_mean,trd_time_std,\n",
    "            total_rub_cur, mean_rub_cur, total_output, total_input, total_net, time_deltas]\n",
    "dict_features = [total_transactions_dict,chanels_dict]\n",
    "for dict_f in dict_features:\n",
    "    i = 1\n",
    "    for key in dict_f:\n",
    "        i += 1\n",
    "        named_feats.append(str(key) + \"_\" + str(i))\n",
    "        final_features.append(dict_f[key])\n",
    "\"\"\""
   ]
  },
  {
   "cell_type": "markdown",
   "metadata": {},
   "source": [
    "Before/During representation"
   ]
  },
  {
   "cell_type": "code",
   "execution_count": 7,
   "metadata": {},
   "outputs": [],
   "source": [
    "named_feats = [\"num_transactions\", \"num_currancy\",\"mcc_var\",\n",
    "                   \"trans_var\", \"trd_time_mean\", \"trd_time_std\", \n",
    "                   \"total_rub_cur\", \"mean_rub_cur\", \"total_output\",\n",
    "                   \"total_input\", \"total_net\"]\n",
    "\n",
    "features =  before_features + during_features + [time_deltas]\n",
    "before_named_feats = [x + \"_before\" for x in named_feats]\n",
    "during_named_feats = [x + \"_during\" for x in named_feats]\n",
    "named_feats = before_named_feats + during_named_feats + [\"time_deltas\"]\n",
    "dict_features = [(total_transactions_dict_during, \"during\"), \n",
    "                 (total_transactions_dict_before,  \"before\"),\n",
    "                 (chanels_dict, \"chanel\")]\n",
    "final_features = list(features)\n",
    "for dictt in dict_features:\n",
    "    dict_f ,f_name= dictt\n",
    "    i = 1\n",
    "    for key in dict_f:\n",
    "        i += 1\n",
    "        named_feats.append(str(key) + \"_\" + f_name)\n",
    "        final_features.append(dict_f[key])"
   ]
  },
  {
   "cell_type": "markdown",
   "metadata": {},
   "source": [
    "Convert data to numpy array with dim. number samples, number attributes"
   ]
  },
  {
   "cell_type": "code",
   "execution_count": 8,
   "metadata": {},
   "outputs": [
    {
     "data": {
      "text/plain": [
       "(10217, 35)"
      ]
     },
     "execution_count": 8,
     "metadata": {},
     "output_type": "execute_result"
    }
   ],
   "source": [
    "X = np.array(final_features).T\n",
    "X.shape"
   ]
  },
  {
   "cell_type": "markdown",
   "metadata": {},
   "source": [
    "Fill NaN Values(They come from users who have made only one transaction , which leads to time std of NaN)"
   ]
  },
  {
   "cell_type": "code",
   "execution_count": 9,
   "metadata": {},
   "outputs": [],
   "source": [
    "df_X = pd.DataFrame(X)\n",
    "df_X = df_X.fillna(0)"
   ]
  },
  {
   "cell_type": "markdown",
   "metadata": {},
   "source": [
    "Save the data for clustering"
   ]
  },
  {
   "cell_type": "code",
   "execution_count": null,
   "metadata": {},
   "outputs": [],
   "source": [
    "df_X.to_pickle(\"df_task_3\")"
   ]
  },
  {
   "cell_type": "markdown",
   "metadata": {},
   "source": [
    "Find the location of the last example from the anotated set of examples. And separate the data to: data for submission, train and test sets."
   ]
  },
  {
   "cell_type": "code",
   "execution_count": 10,
   "metadata": {},
   "outputs": [
    {
     "name": "stderr",
     "output_type": "stream",
     "text": [
      "C:\\Users\\EMO\\Anaconda3\\lib\\site-packages\\ipykernel_launcher.py:6: SettingWithCopyWarning: \n",
      "A value is trying to be set on a copy of a slice from a DataFrame.\n",
      "Try using .loc[row_indexer,col_indexer] = value instead\n",
      "\n",
      "See the caveats in the documentation: http://pandas.pydata.org/pandas-docs/stable/indexing.html#indexing-view-versus-copy\n",
      "  \n",
      "C:\\Users\\EMO\\Anaconda3\\lib\\site-packages\\ipykernel_launcher.py:7: SettingWithCopyWarning: \n",
      "A value is trying to be set on a copy of a slice from a DataFrame.\n",
      "Try using .loc[row_indexer,col_indexer] = value instead\n",
      "\n",
      "See the caveats in the documentation: http://pandas.pydata.org/pandas-docs/stable/indexing.html#indexing-view-versus-copy\n",
      "  import sys\n"
     ]
    }
   ],
   "source": [
    "number_of_anotated_users = df[\"cl_id\"].unique().shape[0]\n",
    "df_submisson = df_X.iloc[number_of_anotated_users:, :]\n",
    "df_rest = df_X.iloc[:number_of_anotated_users, :]\n",
    "\n",
    "df_submisson.to_pickle(\"df_t1_for_t2\")\n",
    "df_rest[\"flag\"] = np.array(target_flags[:number_of_anotated_users])\n",
    "df_rest[\"sums\"] = np.array(target_sums[:number_of_anotated_users])\n",
    "\n",
    "#shuffle the data\n",
    "df_rest = shuffle(df_rest)\n",
    "train_treshold = int(0.65*number_of_anotated_users)\n",
    "\n",
    "df_train = df_rest.iloc[:train_treshold, :]\n",
    "df_test = df_rest.iloc[train_treshold:, :]"
   ]
  },
  {
   "cell_type": "code",
   "execution_count": 11,
   "metadata": {},
   "outputs": [
    {
     "data": {
      "text/plain": [
       "(0, 37)"
      ]
     },
     "execution_count": 11,
     "metadata": {},
     "output_type": "execute_result"
    }
   ],
   "source": [
    "df_rest[(df_rest[\"flag\"]==0) & (df_rest[\"sums\"]>0)].shape\n",
    "# Sanity chek : \n",
    "#There are no usesrs who have stoped useing the service but still have registerd sums in the column target sums"
   ]
  },
  {
   "cell_type": "code",
   "execution_count": 50,
   "metadata": {},
   "outputs": [
    {
     "data": {
      "text/html": [
       "<div>\n",
       "<style scoped>\n",
       "    .dataframe tbody tr th:only-of-type {\n",
       "        vertical-align: middle;\n",
       "    }\n",
       "\n",
       "    .dataframe tbody tr th {\n",
       "        vertical-align: top;\n",
       "    }\n",
       "\n",
       "    .dataframe thead th {\n",
       "        text-align: right;\n",
       "    }\n",
       "</style>\n",
       "<table border=\"1\" class=\"dataframe\">\n",
       "  <thead>\n",
       "    <tr style=\"text-align: right;\">\n",
       "      <th></th>\n",
       "      <th>0</th>\n",
       "      <th>1</th>\n",
       "      <th>2</th>\n",
       "      <th>3</th>\n",
       "      <th>4</th>\n",
       "      <th>5</th>\n",
       "      <th>6</th>\n",
       "      <th>7</th>\n",
       "      <th>8</th>\n",
       "      <th>9</th>\n",
       "      <th>...</th>\n",
       "      <th>27</th>\n",
       "      <th>28</th>\n",
       "      <th>29</th>\n",
       "      <th>30</th>\n",
       "      <th>31</th>\n",
       "      <th>32</th>\n",
       "      <th>33</th>\n",
       "      <th>34</th>\n",
       "      <th>flag</th>\n",
       "      <th>sums</th>\n",
       "    </tr>\n",
       "  </thead>\n",
       "  <tbody>\n",
       "    <tr>\n",
       "      <th>639</th>\n",
       "      <td>0.0</td>\n",
       "      <td>0.0</td>\n",
       "      <td>0.0</td>\n",
       "      <td>0.0</td>\n",
       "      <td>0.0</td>\n",
       "      <td>0.0</td>\n",
       "      <td>0.0</td>\n",
       "      <td>0.0</td>\n",
       "      <td>0.0</td>\n",
       "      <td>0.0</td>\n",
       "      <td>...</td>\n",
       "      <td>54.511729</td>\n",
       "      <td>0.0</td>\n",
       "      <td>0.0</td>\n",
       "      <td>0.0</td>\n",
       "      <td>0.0</td>\n",
       "      <td>0.0</td>\n",
       "      <td>2.0</td>\n",
       "      <td>0.0</td>\n",
       "      <td>1.0</td>\n",
       "      <td>57233.83</td>\n",
       "    </tr>\n",
       "    <tr>\n",
       "      <th>1978</th>\n",
       "      <td>0.0</td>\n",
       "      <td>0.0</td>\n",
       "      <td>0.0</td>\n",
       "      <td>0.0</td>\n",
       "      <td>0.0</td>\n",
       "      <td>0.0</td>\n",
       "      <td>0.0</td>\n",
       "      <td>0.0</td>\n",
       "      <td>0.0</td>\n",
       "      <td>0.0</td>\n",
       "      <td>...</td>\n",
       "      <td>8.790321</td>\n",
       "      <td>0.0</td>\n",
       "      <td>0.0</td>\n",
       "      <td>0.0</td>\n",
       "      <td>0.0</td>\n",
       "      <td>0.0</td>\n",
       "      <td>0.0</td>\n",
       "      <td>1.0</td>\n",
       "      <td>0.0</td>\n",
       "      <td>0.00</td>\n",
       "    </tr>\n",
       "    <tr>\n",
       "      <th>1631</th>\n",
       "      <td>0.0</td>\n",
       "      <td>0.0</td>\n",
       "      <td>0.0</td>\n",
       "      <td>0.0</td>\n",
       "      <td>0.0</td>\n",
       "      <td>0.0</td>\n",
       "      <td>0.0</td>\n",
       "      <td>0.0</td>\n",
       "      <td>0.0</td>\n",
       "      <td>0.0</td>\n",
       "      <td>...</td>\n",
       "      <td>0.000094</td>\n",
       "      <td>0.0</td>\n",
       "      <td>0.0</td>\n",
       "      <td>0.0</td>\n",
       "      <td>0.0</td>\n",
       "      <td>0.0</td>\n",
       "      <td>0.0</td>\n",
       "      <td>0.0</td>\n",
       "      <td>0.0</td>\n",
       "      <td>0.00</td>\n",
       "    </tr>\n",
       "    <tr>\n",
       "      <th>161</th>\n",
       "      <td>0.0</td>\n",
       "      <td>0.0</td>\n",
       "      <td>0.0</td>\n",
       "      <td>0.0</td>\n",
       "      <td>0.0</td>\n",
       "      <td>0.0</td>\n",
       "      <td>0.0</td>\n",
       "      <td>0.0</td>\n",
       "      <td>0.0</td>\n",
       "      <td>0.0</td>\n",
       "      <td>...</td>\n",
       "      <td>438.638485</td>\n",
       "      <td>0.0</td>\n",
       "      <td>0.0</td>\n",
       "      <td>0.0</td>\n",
       "      <td>0.0</td>\n",
       "      <td>0.0</td>\n",
       "      <td>2.0</td>\n",
       "      <td>0.0</td>\n",
       "      <td>1.0</td>\n",
       "      <td>210498.92</td>\n",
       "    </tr>\n",
       "    <tr>\n",
       "      <th>1085</th>\n",
       "      <td>0.0</td>\n",
       "      <td>0.0</td>\n",
       "      <td>0.0</td>\n",
       "      <td>0.0</td>\n",
       "      <td>0.0</td>\n",
       "      <td>0.0</td>\n",
       "      <td>0.0</td>\n",
       "      <td>0.0</td>\n",
       "      <td>0.0</td>\n",
       "      <td>0.0</td>\n",
       "      <td>...</td>\n",
       "      <td>878.807500</td>\n",
       "      <td>0.0</td>\n",
       "      <td>0.0</td>\n",
       "      <td>0.0</td>\n",
       "      <td>0.0</td>\n",
       "      <td>0.0</td>\n",
       "      <td>2.0</td>\n",
       "      <td>0.0</td>\n",
       "      <td>1.0</td>\n",
       "      <td>91242.09</td>\n",
       "    </tr>\n",
       "  </tbody>\n",
       "</table>\n",
       "<p>5 rows × 37 columns</p>\n",
       "</div>"
      ],
      "text/plain": [
       "        0    1    2    3    4    5    6    7    8    9    ...              27  \\\n",
       "639   0.0  0.0  0.0  0.0  0.0  0.0  0.0  0.0  0.0  0.0    ...       54.511729   \n",
       "1978  0.0  0.0  0.0  0.0  0.0  0.0  0.0  0.0  0.0  0.0    ...        8.790321   \n",
       "1631  0.0  0.0  0.0  0.0  0.0  0.0  0.0  0.0  0.0  0.0    ...        0.000094   \n",
       "161   0.0  0.0  0.0  0.0  0.0  0.0  0.0  0.0  0.0  0.0    ...      438.638485   \n",
       "1085  0.0  0.0  0.0  0.0  0.0  0.0  0.0  0.0  0.0  0.0    ...      878.807500   \n",
       "\n",
       "       28   29   30   31   32   33   34  flag       sums  \n",
       "639   0.0  0.0  0.0  0.0  0.0  2.0  0.0   1.0   57233.83  \n",
       "1978  0.0  0.0  0.0  0.0  0.0  0.0  1.0   0.0       0.00  \n",
       "1631  0.0  0.0  0.0  0.0  0.0  0.0  0.0   0.0       0.00  \n",
       "161   0.0  0.0  0.0  0.0  0.0  2.0  0.0   1.0  210498.92  \n",
       "1085  0.0  0.0  0.0  0.0  0.0  2.0  0.0   1.0   91242.09  \n",
       "\n",
       "[5 rows x 37 columns]"
      ]
     },
     "execution_count": 50,
     "metadata": {},
     "output_type": "execute_result"
    }
   ],
   "source": [
    "df_rest.head()"
   ]
  },
  {
   "cell_type": "markdown",
   "metadata": {},
   "source": [
    "Distribution of classes:"
   ]
  },
  {
   "cell_type": "code",
   "execution_count": 15,
   "metadata": {},
   "outputs": [
    {
     "name": "stdout",
     "output_type": "stream",
     "text": [
      "% positive Class: 0.5534\n",
      "Number of anotated users:  5000\n"
     ]
    }
   ],
   "source": [
    "print(\"% positive Class:\",sum(target_flags[:number_of_anotated_users])/number_of_anotated_users)\n",
    "print(\"Number of anotated users: \",df_rest.shape[0])"
   ]
  },
  {
   "cell_type": "markdown",
   "metadata": {},
   "source": [
    "Scale the data to have 0 mean and unit variance.\n",
    "X_train, X_sub, X_test are gona be the arrays used for task 1(binary classification)"
   ]
  },
  {
   "cell_type": "code",
   "execution_count": 16,
   "metadata": {},
   "outputs": [],
   "source": [
    "scaler = StandardScaler()\n",
    "X_train = scaler.fit_transform(df_train.iloc[:,:-2])\n",
    "X_test = scaler.transform(df_test.iloc[:,:-2])\n",
    "X_sub = scaler.transform(df_submisson)"
   ]
  },
  {
   "cell_type": "markdown",
   "metadata": {},
   "source": [
    "Save the data for the  task 1, prior to this add the column to be predicted for each task"
   ]
  },
  {
   "cell_type": "code",
   "execution_count": 17,
   "metadata": {},
   "outputs": [],
   "source": [
    "X_train_predict_flags = np.hstack([X_train, np.array(df_train[\"flag\"].values.tolist()).reshape(train_treshold,1)])\n",
    "dim_t = int(number_of_anotated_users-train_treshold)\n",
    "X_test_predict_flags = np.hstack([X_test, np.array(df_test[\"flag\"].values.tolist()).reshape(dim_t,1)])"
   ]
  },
  {
   "cell_type": "code",
   "execution_count": 18,
   "metadata": {},
   "outputs": [],
   "source": [
    "np.save(\"X_sub.npy\",X_sub)\n",
    "np.save(\"X_train_flags.npy\",X_train_predict_flags)\n",
    "np.save(\"X_test_flags.npy\",X_test_predict_flags)"
   ]
  },
  {
   "cell_type": "markdown",
   "metadata": {},
   "source": [
    "Greate features for task 2(prediction of Transaction from POS)"
   ]
  },
  {
   "cell_type": "code",
   "execution_count": 19,
   "metadata": {},
   "outputs": [],
   "source": [
    "def task_2_features(data_frame, named_feats, num_POS_transactions_during,num_POS_transactions_before, amt_POS_transactions_during, amt_POS_transactions_before): \n",
    "    data = data_frame.copy()\n",
    "    n_trx_b = data.iloc[:,named_feats.index('num_transactions_before')]\n",
    "    net_b = data.iloc[:,named_feats.index('total_net_before')]\n",
    "    relative_pos_b = data.iloc[:,named_feats.index('POS_CAT_before')]\n",
    "    \n",
    "    Total_amount_from_POS_b = net_b*relative_pos_b\n",
    "    n_trx_d = data.iloc[:,named_feats.index('num_transactions_during')]\n",
    "    net_d = data.iloc[:,named_feats.index('total_net_during')]\n",
    "    relative_pos_d = data.iloc[:,named_feats.index('POS_CAT_before')]\n",
    "    Total_amount_from_POS_d = net_d*relative_pos_d\n",
    "    \n",
    "    result_df = pd.DataFrame(n_trx_b).rename(index=str, columns={0: \"num_trx_before\"})\n",
    "    result_df[\"num_trx_during\"] = n_trx_d.values.tolist()\n",
    "    result_df[\"POS_CAT_before\"] = Total_amount_from_POS_b.values.tolist()   \n",
    "    result_df[\"POS_CAT_during\"] = Total_amount_from_POS_d.values.tolist()\n",
    "    result_df[\"POS_num_during\"] = num_POS_transactions_during[:5000]\n",
    "    result_df[\"POS_num_before\"] = num_POS_transactions_before[:5000]\n",
    "    result_df[\"POS_amt_before\"] = amt_POS_transactions_before[:5000]\n",
    "    result_df[\"POS_amt_during\"] = amt_POS_transactions_during[:5000]\n",
    "    result_df[\"sums\"] = data[\"sums\"].values.tolist()\n",
    "    result_df[\"flags\"] = data[\"flag\"].values.tolist()\n",
    "    return result_df \n",
    "    \n",
    "df_task_2 = task_2_features(df_rest, named_feats,num_POS_transactions_during, num_POS_transactions_before,amt_POS_transactions_during, amt_POS_transactions_before)"
   ]
  },
  {
   "cell_type": "code",
   "execution_count": null,
   "metadata": {},
   "outputs": [],
   "source": [
    "def task_sub_features(data_frame, named_feats, num_POS_transactions_during,num_POS_transactions_before, amt_POS_transactions_during, amt_POS_transactions_before): \n",
    "    data = data_frame.copy()\n",
    "    n_trx_b = data.iloc[:,named_feats.index('num_transactions_before')]\n",
    "    net_b = data.iloc[:,named_feats.index('total_net_before')]\n",
    "    relative_pos_b = data.iloc[:,named_feats.index('POS_CAT_before')]\n",
    "    \n",
    "    Total_amount_from_POS_b = net_b*relative_pos_b\n",
    "    n_trx_d = data.iloc[:,named_feats.index('num_transactions_during')]\n",
    "    net_d = data.iloc[:,named_feats.index('total_net_during')]\n",
    "    relative_pos_d = data.iloc[:,named_feats.index('POS_CAT_before')]\n",
    "    Total_amount_from_POS_d = net_d*relative_pos_d\n",
    "    \n",
    "    result_df = pd.DataFrame(n_trx_b).rename(index=str, columns={0: \"num_trx_before\"})\n",
    "    result_df[\"num_trx_during\"] = n_trx_d.values.tolist()\n",
    "    result_df[\"POS_CAT_before\"] = Total_amount_from_POS_b.values.tolist()   \n",
    "    result_df[\"POS_CAT_during\"] = Total_amount_from_POS_d.values.tolist()\n",
    "    result_df[\"POS_num_during\"] = num_POS_transactions_during[5000:]\n",
    "    result_df[\"POS_num_before\"] = num_POS_transactions_before[5000:]\n",
    "    result_df[\"POS_amt_before\"] = amt_POS_transactions_before[5000:]\n",
    "    result_df[\"POS_amt_during\"] = amt_POS_transactions_during[5000:]\n",
    "\n",
    "    return result_df \n",
    "    \n",
    "df_task_2_sub = task_sub_features(df_submisson, named_feats,num_POS_transactions_during, num_POS_transactions_before,amt_POS_transactions_during, amt_POS_transactions_before)"
   ]
  },
  {
   "cell_type": "code",
   "execution_count": 20,
   "metadata": {},
   "outputs": [
    {
     "data": {
      "text/html": [
       "<div>\n",
       "<style scoped>\n",
       "    .dataframe tbody tr th:only-of-type {\n",
       "        vertical-align: middle;\n",
       "    }\n",
       "\n",
       "    .dataframe tbody tr th {\n",
       "        vertical-align: top;\n",
       "    }\n",
       "\n",
       "    .dataframe thead th {\n",
       "        text-align: right;\n",
       "    }\n",
       "</style>\n",
       "<table border=\"1\" class=\"dataframe\">\n",
       "  <thead>\n",
       "    <tr style=\"text-align: right;\">\n",
       "      <th></th>\n",
       "      <th>num_trx_before</th>\n",
       "      <th>num_trx_during</th>\n",
       "      <th>POS_CAT_before</th>\n",
       "      <th>POS_CAT_during</th>\n",
       "      <th>POS_num_during</th>\n",
       "      <th>POS_num_before</th>\n",
       "      <th>POS_amt_before</th>\n",
       "      <th>POS_amt_during</th>\n",
       "      <th>sums</th>\n",
       "      <th>flags</th>\n",
       "    </tr>\n",
       "  </thead>\n",
       "  <tbody>\n",
       "    <tr>\n",
       "      <th>3668</th>\n",
       "      <td>4.719101</td>\n",
       "      <td>21.0</td>\n",
       "      <td>194.461204</td>\n",
       "      <td>267.162233</td>\n",
       "      <td>-3.068182</td>\n",
       "      <td>-0.0</td>\n",
       "      <td>0.0</td>\n",
       "      <td>7821.000</td>\n",
       "      <td>0.00</td>\n",
       "      <td>0.0</td>\n",
       "    </tr>\n",
       "    <tr>\n",
       "      <th>4861</th>\n",
       "      <td>18.539326</td>\n",
       "      <td>110.0</td>\n",
       "      <td>9697.731373</td>\n",
       "      <td>9744.124906</td>\n",
       "      <td>-104.482759</td>\n",
       "      <td>0.0</td>\n",
       "      <td>0.0</td>\n",
       "      <td>185495.141</td>\n",
       "      <td>3247.50</td>\n",
       "      <td>1.0</td>\n",
       "    </tr>\n",
       "    <tr>\n",
       "      <th>1189</th>\n",
       "      <td>15.168539</td>\n",
       "      <td>78.0</td>\n",
       "      <td>12216.881058</td>\n",
       "      <td>12384.288600</td>\n",
       "      <td>-114.827586</td>\n",
       "      <td>-0.0</td>\n",
       "      <td>0.0</td>\n",
       "      <td>301976.281</td>\n",
       "      <td>170632.46</td>\n",
       "      <td>1.0</td>\n",
       "    </tr>\n",
       "    <tr>\n",
       "      <th>550</th>\n",
       "      <td>0.000000</td>\n",
       "      <td>49.0</td>\n",
       "      <td>0.000000</td>\n",
       "      <td>0.000000</td>\n",
       "      <td>-29.659091</td>\n",
       "      <td>0.0</td>\n",
       "      <td>0.0</td>\n",
       "      <td>12365.090</td>\n",
       "      <td>78148.40</td>\n",
       "      <td>1.0</td>\n",
       "    </tr>\n",
       "    <tr>\n",
       "      <th>1497</th>\n",
       "      <td>0.000000</td>\n",
       "      <td>129.0</td>\n",
       "      <td>0.000000</td>\n",
       "      <td>0.000000</td>\n",
       "      <td>-382.500000</td>\n",
       "      <td>-0.0</td>\n",
       "      <td>0.0</td>\n",
       "      <td>238651.090</td>\n",
       "      <td>0.00</td>\n",
       "      <td>0.0</td>\n",
       "    </tr>\n",
       "  </tbody>\n",
       "</table>\n",
       "</div>"
      ],
      "text/plain": [
       "      num_trx_before  num_trx_during  POS_CAT_before  POS_CAT_during  \\\n",
       "3668        4.719101            21.0      194.461204      267.162233   \n",
       "4861       18.539326           110.0     9697.731373     9744.124906   \n",
       "1189       15.168539            78.0    12216.881058    12384.288600   \n",
       "550         0.000000            49.0        0.000000        0.000000   \n",
       "1497        0.000000           129.0        0.000000        0.000000   \n",
       "\n",
       "      POS_num_during  POS_num_before  POS_amt_before  POS_amt_during  \\\n",
       "3668       -3.068182            -0.0             0.0        7821.000   \n",
       "4861     -104.482759             0.0             0.0      185495.141   \n",
       "1189     -114.827586            -0.0             0.0      301976.281   \n",
       "550       -29.659091             0.0             0.0       12365.090   \n",
       "1497     -382.500000            -0.0             0.0      238651.090   \n",
       "\n",
       "           sums  flags  \n",
       "3668       0.00    0.0  \n",
       "4861    3247.50    1.0  \n",
       "1189  170632.46    1.0  \n",
       "550    78148.40    1.0  \n",
       "1497       0.00    0.0  "
      ]
     },
     "execution_count": 20,
     "metadata": {},
     "output_type": "execute_result"
    }
   ],
   "source": [
    "df_task_2.head()"
   ]
  },
  {
   "cell_type": "markdown",
   "metadata": {},
   "source": [
    "Save the data for task 2 "
   ]
  },
  {
   "cell_type": "code",
   "execution_count": 23,
   "metadata": {},
   "outputs": [],
   "source": [
    "df_task_2.to_pickle(\"df_task_2\")\n",
    "df_task_2_sub.to_pickle(\"df_task_2_sub\")"
   ]
  }
 ],
 "metadata": {
  "kernelspec": {
   "display_name": "Python 3",
   "language": "python",
   "name": "python3"
  },
  "language_info": {
   "codemirror_mode": {
    "name": "ipython",
    "version": 3
   },
   "file_extension": ".py",
   "mimetype": "text/x-python",
   "name": "python",
   "nbconvert_exporter": "python",
   "pygments_lexer": "ipython3",
   "version": "3.6.4"
  }
 },
 "nbformat": 4,
 "nbformat_minor": 2
}
